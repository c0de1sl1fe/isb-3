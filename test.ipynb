{
 "cells": [
  {
   "cell_type": "code",
   "execution_count": 2,
   "metadata": {},
   "outputs": [
    {
     "name": "stdout",
     "output_type": "stream",
     "text": [
      "<class 'dict'>\n"
     ]
    }
   ],
   "source": [
    "test  = {\n",
    "    'test': \"path path path\"\n",
    "}\n",
    "print(type(test))"
   ]
  },
  {
   "cell_type": "code",
   "execution_count": 3,
   "metadata": {},
   "outputs": [
    {
     "data": {
      "text/plain": [
       "'path path path'"
      ]
     },
     "execution_count": 3,
     "metadata": {},
     "output_type": "execute_result"
    }
   ],
   "source": [
    "test['test']"
   ]
  },
  {
   "cell_type": "code",
   "execution_count": 14,
   "metadata": {},
   "outputs": [
    {
     "data": {
      "text/plain": [
       "1.0"
      ]
     },
     "execution_count": 14,
     "metadata": {},
     "output_type": "execute_result"
    }
   ],
   "source": [
    "import math\n",
    "math.remainder(10, 9)\n"
   ]
  },
  {
   "cell_type": "code",
   "execution_count": 21,
   "metadata": {},
   "outputs": [
    {
     "name": "stdout",
     "output_type": "stream",
     "text": [
      "<class 'bytes'>\n",
      "b'2\\xe0>\\xf2f\\xc7\\xcb\\xb7pR\\x8a\\x95L\\xf3\\xb9\\xe7'\n"
     ]
    }
   ],
   "source": [
    "# генерация ключа симметричного алгоритма шифрования\n",
    "import os #можно обойтись стандартным модулем\n",
    "\n",
    "key = os.urandom(16) # это байты\n",
    "\n",
    "print(type(key))\n",
    "print(key)\n"
   ]
  },
  {
   "cell_type": "code",
   "execution_count": 22,
   "metadata": {},
   "outputs": [
    {
     "name": "stdout",
     "output_type": "stream",
     "text": [
      "b'test'\n",
      "b'test\\x00\\x00\\x00\\x00\\x00\\x00\\x00\\x00\\x00\\x00\\x00\\x0c'\n"
     ]
    }
   ],
   "source": [
    "from cryptography.hazmat.primitives import padding\n",
    "\n",
    "padder = padding.ANSIX923(128).padder()\n",
    "text = bytes('test', 'UTF-8')\n",
    "padded_text = padder.update(text)+padder.finalize()\n",
    "\n",
    "print(text)\n",
    "print(padded_text)"
   ]
  },
  {
   "cell_type": "code",
   "execution_count": 23,
   "metadata": {},
   "outputs": [
    {
     "name": "stdout",
     "output_type": "stream",
     "text": [
      "b'<\\xecwh}\\x84sKJ\\xd3=t0Wo]'\n"
     ]
    }
   ],
   "source": [
    "# шифрование текста симметричным алгоритмом\n",
    "from cryptography.hazmat.primitives.ciphers import Cipher, algorithms, modes\n",
    "\n",
    "iv = os.urandom(16) #случайное значение для инициализации блочного режима, должно быть размером с блок и каждый раз новым\n",
    "cipher = Cipher(algorithms.SM4(key), modes.CBC(iv))\n",
    "encryptor = cipher.encryptor()\n",
    "c_text = encryptor.update(padded_text) + encryptor.finalize()\n",
    "\n",
    "print(c_text)"
   ]
  },
  {
   "cell_type": "code",
   "execution_count": 25,
   "metadata": {},
   "outputs": [
    {
     "name": "stdout",
     "output_type": "stream",
     "text": [
      "test\u0000\u0000\u0000\u0000\u0000\u0000\u0000\u0000\u0000\u0000\u0000\f\n",
      "test\n"
     ]
    }
   ],
   "source": [
    "\n",
    "decryptor = cipher.decryptor()\n",
    "dc_text = decryptor.update(c_text) + decryptor.finalize()\n",
    "\n",
    "unpadder = padding.ANSIX923(128).unpadder()\n",
    "unpadded_dc_text = unpadder.update(dc_text) + unpadder.finalize()\n",
    "\n",
    "print(dc_text.decode('UTF-8'))\n",
    "print(unpadded_dc_text.decode('UTF-8'))"
   ]
  },
  {
   "cell_type": "code",
   "execution_count": 1,
   "metadata": {},
   "outputs": [
    {
     "name": "stderr",
     "output_type": "stream",
     "text": [
      "d:\\git\\isb-3\\utils.py:2: CryptographyDeprecationWarning: SEED has been deprecated\n",
      "  from cryptography.hazmat.primitives.ciphers.algorithms import SEED, SM4\n"
     ]
    }
   ],
   "source": [
    "from utils import generateAssymKeys, generateSymmKey, saveSymmKey, loadAndDecryptSymmKey, encryptData\n"
   ]
  },
  {
   "cell_type": "code",
   "execution_count": 2,
   "metadata": {},
   "outputs": [
    {
     "name": "stdout",
     "output_type": "stream",
     "text": [
      "<class 'bytes'>\n"
     ]
    }
   ],
   "source": [
    "test = generateSymmKey()\n",
    "print(type(test))\n",
    "test1 = generateAssymKeys()\n",
    "pub = test1.public_key()\n",
    "pr = test1"
   ]
  },
  {
   "cell_type": "code",
   "execution_count": 4,
   "metadata": {},
   "outputs": [
    {
     "ename": "AttributeError",
     "evalue": "module 'cryptography.hazmat.primitives.padding' has no attribute 'OAEP'",
     "output_type": "error",
     "traceback": [
      "\u001b[1;31m---------------------------------------------------------------------------\u001b[0m",
      "\u001b[1;31mAttributeError\u001b[0m                            Traceback (most recent call last)",
      "Cell \u001b[1;32mIn[4], line 1\u001b[0m\n\u001b[1;32m----> 1\u001b[0m saveSymmKey(\u001b[39m\"\u001b[39;49m\u001b[39mD:\u001b[39;49m\u001b[39m\\\u001b[39;49m\u001b[39mgit\u001b[39;49m\u001b[39m\\\u001b[39;49m\u001b[39misb-3\u001b[39;49m\u001b[39m\\\u001b[39;49m\u001b[39mdata\u001b[39;49m\u001b[39m\"\u001b[39;49m, pub, test)\n",
      "File \u001b[1;32md:\\git\\isb-3\\utils.py:46\u001b[0m, in \u001b[0;36msaveSymmKey\u001b[1;34m(pathOfKey, publicKey, symmKey)\u001b[0m\n\u001b[0;32m     43\u001b[0m name \u001b[39m=\u001b[39m os\u001b[39m.\u001b[39mpath\u001b[39m.\u001b[39mjoin(pathOfKey, \u001b[39m\"\u001b[39m\u001b[39msymm.bin\u001b[39m\u001b[39m\"\u001b[39m)\n\u001b[0;32m     44\u001b[0m \u001b[39m# c_text = publicKey.encrypt(bytes(symmKey, 'UTF-8'), padding.OAEP(mgf=padding.MGF1(\u001b[39;00m\n\u001b[0;32m     45\u001b[0m \u001b[39m#     algorithm=hashes.SHA256()), algorithm=hashes.SHA256(), label=None))\u001b[39;00m\n\u001b[1;32m---> 46\u001b[0m c_text \u001b[39m=\u001b[39m publicKey\u001b[39m.\u001b[39mencrypt(symmKey, padding\u001b[39m.\u001b[39;49mOAEP(mgf\u001b[39m=\u001b[39mpadding\u001b[39m.\u001b[39mMGF1(\n\u001b[0;32m     47\u001b[0m     algorithm\u001b[39m=\u001b[39mhashes\u001b[39m.\u001b[39mSHA256()), algorithm\u001b[39m=\u001b[39mhashes\u001b[39m.\u001b[39mSHA256(), label\u001b[39m=\u001b[39m\u001b[39mNone\u001b[39;00m))\n\u001b[0;32m     48\u001b[0m \u001b[39mwith\u001b[39;00m \u001b[39mopen\u001b[39m(name, \u001b[39m'\u001b[39m\u001b[39mwb\u001b[39m\u001b[39m'\u001b[39m) \u001b[39mas\u001b[39;00m symm_out:\n\u001b[0;32m     49\u001b[0m     symm_out\u001b[39m.\u001b[39mwrite(c_text)\n",
      "\u001b[1;31mAttributeError\u001b[0m: module 'cryptography.hazmat.primitives.padding' has no attribute 'OAEP'"
     ]
    }
   ],
   "source": [
    "saveSymmKey(\"D:\\git\\isb-3\\data\", pub, test)\n"
   ]
  },
  {
   "cell_type": "code",
   "execution_count": 5,
   "metadata": {},
   "outputs": [
    {
     "name": "stdout",
     "output_type": "stream",
     "text": [
      "test\n",
      "b'N\\x18\\xbf\\x95\\xf4R\"\\xcd\\xed@Jw\\xa1$CK\\xf3\\x90\\x93\\xc3\\t\\x8a\\nt\\xfb5\\xbd\\xd4\\xafF\\xf4\\xa9\\x97\\x91\\xa4\\\\\\xa8\\xa0fT\\x86QO\\xe9\\xf4B\\xc0m\\xdbR\\xa6T\\xda\\xa8\\x13s\\x86X\\xa0\\x11\\x7f]|\\xa3^!\\xb27\\xe9\\xaa\\xae\\x8c\\x1dQ?\\x90\\xfeV6Ri\\xad\\x08KQ3ZE\\x92\\xcf\\xf8,QD|\\x9d\\xf5\\xe9wp\\x8a\\xc0\\xc3\\x95\\xd0\\xcc\\xba\\xec\\xd3\\xb06\\x86\\xb9Z<)x\\xf6\\xd1\\x13\\x01\\x84\\xcaK\\x8d\\x90p\\xddQ\\xd3\\x0c\\xc1\\xe0L\\xca\\xeb\\x86\\xfa\\x0f\\xb5\"\\x03\\xbc}\\xf9D;\\xe3\\x9cK\\xc8\\xfau\\xe1\\x9d\\xb4)mM\\xde\\x16_a\\x91\\xc5C\\n`\\r}pn\\xabW-\\xef\\t\\xa1\\x97\\x10\\x81\\xb5w\\x95$w\\x15\\xa1!\\xd3`n\\x7f\\x86\\xdd\\xbc<P|\\x04\\x86\\xfe\\'\\x95\\x00\\x07HJ.\\xcd\\n\\x83\\xed\\xd0\\xc0J&\\xf4=Q\\xe8t\\xf3\\xd8m\\x19_\\x15\\xe9szZ\\xdaR\\xe5n\\x08{&\\x8d\\x86P\\x99\\xbe\\xb4\\xc3/0\\xb3\\x13\\x06\\x95g\\xb7\\xa1\\xa2'\n"
     ]
    }
   ],
   "source": [
    "tmp = loadAndDecryptSymmKey(\"D:\\git\\isb-3\\data\\symm.bin\", pr)\n",
    "\n"
   ]
  },
  {
   "cell_type": "code",
   "execution_count": 6,
   "metadata": {},
   "outputs": [
    {
     "name": "stdout",
     "output_type": "stream",
     "text": [
      "b'\\xb5d+\\xce:\\xafhsby1\\x1ab\\xa1\\xf6('\n",
      "b'\\xb5d+\\xce:\\xafhsby1\\x1ab\\xa1\\xf6('\n"
     ]
    }
   ],
   "source": [
    "print(tmp)\n",
    "print(test)"
   ]
  },
  {
   "cell_type": "code",
   "execution_count": null,
   "metadata": {},
   "outputs": [],
   "source": [
    "\n",
    "     st = QFileDialog.getOpenFileName(self, 'selectfile')\n",
    "        print(st[0] )"
   ]
  },
  {
   "cell_type": "code",
   "execution_count": 1,
   "metadata": {},
   "outputs": [
    {
     "name": "stdout",
     "output_type": "stream",
     "text": [
      "24\n"
     ]
    }
   ],
   "source": [
    "print(len('кто прочитал тот здохнет'))"
   ]
  },
  {
   "cell_type": "code",
   "execution_count": 8,
   "metadata": {},
   "outputs": [
    {
     "ename": "AttributeError",
     "evalue": "module 'cryptography.hazmat.primitives.asymmetric.padding' has no attribute 'ANSIX923'",
     "output_type": "error",
     "traceback": [
      "\u001b[1;31m---------------------------------------------------------------------------\u001b[0m",
      "\u001b[1;31mAttributeError\u001b[0m                            Traceback (most recent call last)",
      "Cell \u001b[1;32mIn[8], line 1\u001b[0m\n\u001b[1;32m----> 1\u001b[0m encryptData(\u001b[39m'\u001b[39;49m\u001b[39mD:\u001b[39;49m\u001b[39m\\\u001b[39;49m\u001b[39mgit\u001b[39;49m\u001b[39m\\\u001b[39;49m\u001b[39misb-3\u001b[39;49m\u001b[39m\\\u001b[39;49m\u001b[39mdata\u001b[39;49m\u001b[39m'\u001b[39;49m, \u001b[39m'\u001b[39;49m\u001b[39mD:\u001b[39;49m\u001b[39m\\\u001b[39;49m\u001b[39mgit\u001b[39;49m\u001b[39m\\\u001b[39;49m\u001b[39misb-3\u001b[39;49m\u001b[39m\\\u001b[39;49m\u001b[39mdata\u001b[39;49m\u001b[39m\\\u001b[39;49m\u001b[39mdata.txt\u001b[39;49m\u001b[39m'\u001b[39;49m, test)\n",
      "File \u001b[1;32md:\\git\\isb-3\\utils.py:68\u001b[0m, in \u001b[0;36mencryptData\u001b[1;34m(pathToSave, pathOfData, key)\u001b[0m\n\u001b[0;32m     66\u001b[0m \u001b[39mwith\u001b[39;00m \u001b[39mopen\u001b[39m(pathOfData, \u001b[39m'\u001b[39m\u001b[39mr\u001b[39m\u001b[39m'\u001b[39m) \u001b[39mas\u001b[39;00m data_in, \u001b[39mopen\u001b[39m(name, \u001b[39m'\u001b[39m\u001b[39mw\u001b[39m\u001b[39m'\u001b[39m) \u001b[39mas\u001b[39;00m data_out:\n\u001b[0;32m     67\u001b[0m     text \u001b[39m=\u001b[39m data_in\u001b[39m.\u001b[39mread()\n\u001b[1;32m---> 68\u001b[0m     padder \u001b[39m=\u001b[39m padding\u001b[39m.\u001b[39;49mANSIX923(\u001b[39m128\u001b[39m)\u001b[39m.\u001b[39mpadder()\n\u001b[0;32m     69\u001b[0m     text \u001b[39m=\u001b[39m \u001b[39mbytes\u001b[39m(data_in\u001b[39m.\u001b[39mread(), \u001b[39m'\u001b[39m\u001b[39mUTF-8\u001b[39m\u001b[39m'\u001b[39m)\n\u001b[0;32m     70\u001b[0m     padded_text \u001b[39m=\u001b[39m padder\u001b[39m.\u001b[39mupdate(text)\u001b[39m+\u001b[39mpadder\u001b[39m.\u001b[39mfinalize()\n",
      "\u001b[1;31mAttributeError\u001b[0m: module 'cryptography.hazmat.primitives.asymmetric.padding' has no attribute 'ANSIX923'"
     ]
    }
   ],
   "source": [
    "\n",
    "encryptData('D:\\git\\isb-3\\data', 'D:\\git\\isb-3\\data\\data.txt', test)"
   ]
  },
  {
   "cell_type": "code",
   "execution_count": 24,
   "metadata": {},
   "outputs": [
    {
     "name": "stdout",
     "output_type": "stream",
     "text": [
      "b'test'\n"
     ]
    }
   ],
   "source": [
    "import os\n",
    "# with open(\"test.bin\", 'wb') as f:\n",
    "#     f.write(os.urandom(6))\n",
    "#     f.write(bytes('test', encoding='utf-8'))\n",
    "# f.close\n",
    "with open('test.bin', 'rb') as f:\n",
    "    tmp = f.read(6)\n",
    "    tmp = f.read()\n",
    "    print(tmp)\n",
    "\n",
    "    # print(tmp.decode())"
   ]
  },
  {
   "attachments": {},
   "cell_type": "markdown",
   "metadata": {},
   "source": [
    "b'\\x86\\xe8\\x8d\\xd5!2'  -- 6"
   ]
  }
 ],
 "metadata": {
  "kernelspec": {
   "display_name": ".vevn",
   "language": "python",
   "name": "python3"
  },
  "language_info": {
   "codemirror_mode": {
    "name": "ipython",
    "version": 3
   },
   "file_extension": ".py",
   "mimetype": "text/x-python",
   "name": "python",
   "nbconvert_exporter": "python",
   "pygments_lexer": "ipython3",
   "version": "3.10.7"
  },
  "orig_nbformat": 4
 },
 "nbformat": 4,
 "nbformat_minor": 2
}
